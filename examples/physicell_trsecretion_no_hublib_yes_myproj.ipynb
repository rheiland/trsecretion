{
  "cells": [
    {
      "cell_type": "code",
      "execution_count": null,
      "metadata": {
        "id": "qFHYfQ96W0-Z"
      },
      "outputs": [],
      "source": [
        "# library\n",
        "import os\n",
        "\n",
        "# const\n",
        "home = '/content'\n",
        "\n",
        "# install\n",
        "os.chdir(home)\n",
        "if not os.path.exists('trsecretion'):\n",
        "    os.system('git clone https://github.com/rheiland/trsecretion.git')\n",
        "\n",
        "# run\n",
        "from tr_mechanics import run_on_colab\n",
        "gui = run_on_colab.go(home)\n",
        "gui"
      ]
    },
    {
      "cell_type": "code",
      "execution_count": null,
      "metadata": {
        "id": "O7Oz29FJcmPS"
      },
      "outputs": [],
      "source": []
    }
  ],
  "metadata": {
    "colab": {
      "provenance": []
    },
    "kernelspec": {
      "display_name": "Python 3",
      "name": "python3"
    },
    "language_info": {
      "name": "python"
    }
  },
  "nbformat": 4,
  "nbformat_minor": 0
}
